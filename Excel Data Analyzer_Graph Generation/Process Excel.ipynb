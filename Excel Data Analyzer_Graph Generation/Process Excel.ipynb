{
 "cells": [
  {
   "cell_type": "code",
   "execution_count": 1,
   "id": "03560814-1b8a-4fdb-a28b-61d5043436bd",
   "metadata": {},
   "outputs": [
    {
     "name": "stdout",
     "output_type": "stream",
     "text": [
      "Requirement already satisfied: pandas in c:\\users\\ssathiyaseelan\\appdata\\local\\anaconda3\\lib\\site-packages (2.2.2)\n",
      "Requirement already satisfied: xlrd in c:\\users\\ssathiyaseelan\\appdata\\local\\anaconda3\\lib\\site-packages (2.0.1)\n",
      "Requirement already satisfied: numpy>=1.26.0 in c:\\users\\ssathiyaseelan\\appdata\\local\\anaconda3\\lib\\site-packages (from pandas) (1.26.4)\n",
      "Requirement already satisfied: python-dateutil>=2.8.2 in c:\\users\\ssathiyaseelan\\appdata\\local\\anaconda3\\lib\\site-packages (from pandas) (2.9.0.post0)\n",
      "Requirement already satisfied: pytz>=2020.1 in c:\\users\\ssathiyaseelan\\appdata\\local\\anaconda3\\lib\\site-packages (from pandas) (2024.1)\n",
      "Requirement already satisfied: tzdata>=2022.7 in c:\\users\\ssathiyaseelan\\appdata\\local\\anaconda3\\lib\\site-packages (from pandas) (2023.3)\n",
      "Requirement already satisfied: six>=1.5 in c:\\users\\ssathiyaseelan\\appdata\\local\\anaconda3\\lib\\site-packages (from python-dateutil>=2.8.2->pandas) (1.16.0)\n",
      "Note: you may need to restart the kernel to use updated packages.\n"
     ]
    }
   ],
   "source": [
    "pip install pandas xlrd"
   ]
  },
  {
   "cell_type": "code",
   "execution_count": 2,
   "id": "47deb702-dbf7-4723-a52a-9aa4d8b64f97",
   "metadata": {},
   "outputs": [
    {
     "name": "stdout",
     "output_type": "stream",
     "text": [
      "\n",
      "--- Sheet: supply_chain_test_data ---\n",
      "Product type   SKU     Price  Availability  Number of products sold  Revenue generated Customer demographics  Stock levels  Lead times  Order quantities  Shipping times Shipping carriers  Shipping costs Supplier name  Location  Lead time  Production volumes  Manufacturing lead time  Manufacturing costs Inspection results  Defect rates Transportation modes  Routes      Costs\n",
      "    haircare  SKU0 69.808006            55                      802        8661.996792            Non-binary            58           7                96               4         Carrier B        2.956572    Supplier 3    Mumbai         29                 215                       29            46.279879            Pending      0.226410                 Road Route B 187.752075\n",
      "    skincare  SKU1 14.843523            95                      736        7460.900065                Female            53          30                37               2         Carrier A        9.716575    Supplier 3    Mumbai         23                 517                       30            33.616769            Pending      4.854068                 Road Route B 503.065579\n",
      "    haircare  SKU2 11.319683            34                        8        9577.749626               Unknown             1          10                88               2         Carrier B        8.054479    Supplier 1    Mumbai         12                 971                       27            30.688019            Pending      4.580593                  Air Route C 141.920282\n",
      "    skincare  SKU3 61.163343            68                       83        7766.836426            Non-binary            23          13                59               6         Carrier C        1.729569    Supplier 5   Kolkata         24                 937                       18            35.624741               Fail      4.746649                 Rail Route A 254.776159\n",
      "    skincare  SKU4  4.805496            26                      871        2686.505152            Non-binary             5           3                56               8         Carrier A        3.890548    Supplier 1     Delhi          5                 414                        3            92.065161               Fail      3.145580                  Air Route A 923.440632\n",
      "    haircare  SKU5  1.699976            87                      147        2828.348746            Non-binary            90          27                66               3         Carrier B        4.444099    Supplier 4 Bangalore         10                 104                       17            56.766476               Fail      2.779194                 Road Route A 235.461237\n",
      "    skincare  SKU6  4.078333            48                       65        7823.476560                  Male            11          15                58               8         Carrier C        3.880763    Supplier 3   Kolkata         14                 314                       24             1.085069            Pending      1.000911                  Sea Route A 134.369097\n",
      "   cosmetics  SKU7 42.958384            59                      426        8496.103813                Female            93          17                11               1         Carrier B        2.348339    Supplier 4 Bangalore         22                 564                        1            99.466109               Fail      0.398177                 Road Route C 802.056312\n",
      "   cosmetics  SKU8 68.717597            78                      150        7517.363211                Female             5          10                15               7         Carrier C        3.404734    Supplier 4    Mumbai         13                 769                        8            11.423027            Pending      2.709863                  Sea Route B 505.557134\n",
      "    skincare  SKU9 64.015733            35                      980        4971.145988               Unknown            14          27                83               1         Carrier A        7.166645    Supplier 2   Chennai         29                 963                       23            47.957602            Pending      3.844614                 Rail Route B 995.929461\n",
      "    skincare SKU10 15.707796            11                      996        2330.965802            Non-binary            51          13                80               2         Carrier C        8.673211    Supplier 5   Kolkata         18                 830                        5            96.527353               Pass      1.727314                 Road Route B 806.103178\n",
      "    skincare SKU11 90.635460            95                      960        6099.944116                Female            46          23                60               1         Carrier A        4.523943    Supplier 2   Kolkata         28                 362                       11            27.592363            Pending      0.021170                  Air Route A 126.723033\n",
      "    haircare SKU12 71.213389            41                      336        2873.741446               Unknown           100          30                85               4         Carrier A        1.325274    Supplier 4   Kolkata          3                 563                        3            32.321286               Fail      2.161254                 Road Route B 402.968789\n",
      "    skincare SKU13 16.160393             5                      249        4052.738416                  Male            80           8                48               9         Carrier A        9.537283    Supplier 5 Bangalore         23                 173                       10            97.829050            Pending      1.631074                 Road Route B 547.241005\n",
      "    skincare SKU14 99.171329            26                      562        8653.570926            Non-binary            54          29                78               5         Carrier B        2.039770    Supplier 1   Kolkata         25                 558                       14             5.791437            Pending      0.100683                  Air Route B 929.235290\n",
      "    skincare SKU15 36.989245            94                      469        5442.086785            Non-binary             9           8                69               7         Carrier B        2.422040    Supplier 1 Bangalore         14                 580                        7            97.121282               Pass      2.264406                  Sea Route B 127.861800\n",
      "    skincare SKU16  7.547172            74                      280        6453.797968                Female             2           5                78               1         Carrier B        4.191325    Supplier 1 Bangalore          3                 399                       21            77.106342               Pass      1.012563                  Air Route A 865.525780\n",
      "   cosmetics SKU17 81.462534            82                      126        2629.396435                Female            45          17                85               9         Carrier C        3.585419    Supplier 1   Chennai          7                 453                       16            47.679680               Fail      0.102021                  Air Route C 670.934391\n",
      "    haircare SKU18 36.443628            23                      620        9364.673505               Unknown            10          10                46               8         Carrier C        4.339225    Supplier 2   Kolkata         18                 374                       17            27.107981            Pending      2.231939                  Sea Route A 593.480259\n",
      "    skincare SKU19 51.123870           100                      187        2553.495585               Unknown            48          11                94               3         Carrier A        4.742636    Supplier 4   Chennai         20                 694                       16            82.373321               Fail      3.646451                 Road Route C 477.307631\n",
      "    skincare SKU20 96.341072            22                      320        8128.027697               Unknown            27          12                68               6         Carrier A        8.878335    Supplier 1   Chennai         29                 309                        6            65.686260               Pass      4.231417                  Air Route B 493.871215\n",
      "   cosmetics SKU21 84.893869            60                      601        7087.052696               Unknown            69          25                 7               6         Carrier B        6.037884    Supplier 5   Chennai         19                 791                        4            61.735729            Pending      0.018608                  Air Route C 523.360915\n",
      "    haircare SKU22 27.679781            55                      884        2390.807867               Unknown            71           1                63              10         Carrier A        9.567649    Supplier 4   Kolkata         22                 780                       28            50.120840               Fail      2.591275                 Rail Route C 205.571996\n",
      "   cosmetics SKU23  4.324341            30                      391        8858.367571               Unknown            84           5                29               7         Carrier A        2.924858    Supplier 5   Kolkata         11                 568                       29            98.609957            Pending      1.342292                 Rail Route A 196.329446\n",
      "    haircare SKU24  4.156308            32                      209        9049.077861                  Male             4          26                 2               8         Carrier C        9.741292    Supplier 2 Bangalore         28                 447                        3            40.382360            Pending      3.691310                  Air Route A 758.724773\n",
      "    haircare SKU25 39.629344            73                      142        2174.777054                  Male            82          11                52               3         Carrier C        2.231074    Supplier 4   Kolkata         19                 934                       23            78.280383            Pending      3.797231                 Road Route B 458.535946\n",
      "    haircare SKU26 97.446947             9                      353        3716.493326                  Male            59          16                48               4         Carrier B        6.507549    Supplier 2 Bangalore         26                 171                        4            15.972230               Pass      2.119320                 Rail Route A 617.866916\n",
      "   cosmetics SKU27 92.557361            42                      352        2686.457224               Unknown            47           9                62               8         Carrier C        7.406751    Supplier 5    Mumbai         25                 291                        4            10.528245               Fail      2.864668                  Sea Route B 762.459182\n",
      "   cosmetics SKU28  2.397275            12                      394        6117.324615                Female            48          15                24               4         Carrier B        9.898141    Supplier 1    Mumbai         13                 171                        7            59.429382               Fail      0.815757                  Air Route A 123.437028\n",
      "   cosmetics SKU29 63.447559             3                      253        8318.903195                Female            45           5                67               7         Carrier B        8.100973    Supplier 1   Kolkata         16                 329                        7            39.292876               Pass      3.878099                 Road Route B 764.935376\n",
      "    haircare SKU30  8.022859            10                      327        2766.342367                  Male            60          26                35               7         Carrier B        8.954528    Supplier 4   Kolkata         27                 806                       30            51.634893            Pending      0.965395                 Road Route C 880.080988\n",
      "    skincare SKU31 50.847393            28                      168        9655.135103                  Male             6          17                44               4         Carrier B        2.679661    Supplier 3   Chennai         24                 461                        8            60.251146            Pending      2.989000                 Rail Route C 609.379207\n",
      "    skincare SKU32 79.209936            43                      781        9571.550487               Unknown            89          13                64               4         Carrier C        6.599105    Supplier 3   Kolkata         30                 737                        7            29.692467               Pass      1.946036                 Road Route A 761.173910\n",
      "   cosmetics SKU33 64.795435            63                      616        5149.998350            Non-binary             4          17                95               9         Carrier C        4.858271    Supplier 5   Chennai          1                 251                       23            23.853428               Fail      3.541046                  Sea Route A 371.255296\n",
      "    skincare SKU34 37.467592            96                      602        9061.710896               Unknown             1          26                21               7         Carrier A        1.019488    Supplier 1   Chennai          4                 452                       10            10.754273               Pass      0.646605                 Road Route B 510.358000\n",
      "   cosmetics SKU35 84.957787            11                      449        6541.329345                Female            42          27                85               8         Carrier C        5.288190    Supplier 1     Delhi          3                 367                        2            58.004787               Pass      0.541154                  Sea Route C 553.420471\n",
      "    skincare SKU36  9.813003            34                      963        7573.402458                Female            18          23                28               3         Carrier B        2.107951    Supplier 2     Delhi         26                 671                       19            45.531364               Fail      3.805533                  Air Route C 403.808974\n",
      "    skincare SKU37 23.399845             5                      963        2438.339930                Female            25           8                21               9         Carrier A        1.532655    Supplier 3   Kolkata         24                 867                       15            34.343277            Pending      2.610288                  Sea Route A 183.932968\n",
      "   cosmetics SKU38 52.075931            75                      705        9692.318040            Non-binary            69           1                88               5         Carrier B        9.235931    Supplier 5    Mumbai         10                 841                       12             5.930694            Pending      0.613327                  Air Route B 339.672870\n",
      "    skincare SKU39 19.127477            26                      176        1912.465663                Female            78          29                34               3         Carrier A        5.562504    Supplier 2   Kolkata         30                 791                        6             9.005807               Fail      1.451972                  Air Route B 653.672995\n",
      "    skincare SKU40 80.541424            97                      933        5724.959350                Female            90          20                39               8         Carrier C        7.229595    Supplier 1   Kolkata         18                 793                        1            88.179407            Pending      4.213269                 Road Route A 529.808724\n",
      "    skincare SKU41 99.113292            35                      556        5521.205259                Female            64          19                38               8         Carrier B        5.773264    Supplier 4   Chennai         18                 892                        7            95.332065               Fail      0.045302                  Sea Route A 275.524371\n",
      "    skincare SKU42 46.529168            98                      155        1839.609426                Female            22          27                57               4         Carrier C        7.526248    Supplier 5 Bangalore         26                 179                        7            96.422821               Fail      4.939255                 Road Route A 635.657121\n",
      "    haircare SKU43 11.743272             6                      598        5737.425599               Unknown            36          29                85               9         Carrier B        3.694021    Supplier 5    Mumbai          1                 206                       23            26.277366            Pending      0.372305                  Air Route A 716.044120\n",
      "   cosmetics SKU44 51.355791            34                      919        7152.286049                Female            13          19                72               6         Carrier C        7.577450    Supplier 2     Delhi          7                 834                       18            22.554107               Fail      2.962626                 Rail Route A 610.453270\n",
      "    haircare SKU45 33.784138             1                       24        5267.956808                  Male            93           7                52               6         Carrier B        5.215155    Supplier 2   Chennai         25                 794                       25            66.312544               Pass      3.219605                 Rail Route A 495.305697\n",
      "    haircare SKU46 27.082207            75                      859        2556.767361            Non-binary            92          29                 6               8         Carrier B        4.070956    Supplier 3   Chennai         18                 870                       23            77.322353            Pending      3.648611                 Road Route B 380.435937\n",
      "    skincare SKU47 95.712136            93                      910        7089.474250                  Male             4          15                51               9         Carrier B        8.978751    Supplier 1   Kolkata         10                 964                       20            19.712993            Pending      0.380574                 Rail Route A 581.602355\n",
      "    haircare SKU48 76.035544            28                       29        7397.071005            Non-binary            30          16                 9               3         Carrier C        7.095833    Supplier 2    Mumbai          9                 109                       18            23.126364               Fail      1.698113                 Rail Route B 768.651914\n",
      "   cosmetics SKU49 78.897913            19                       99        8001.613207               Unknown            97          24                 9               6         Carrier C        2.505621    Supplier 5     Delhi         28                 177                       28            14.147815               Pass      2.825814                 Rail Route A 336.890169\n",
      "   cosmetics SKU50 14.203484            91                      633        5910.885390                Female            31          23                82              10         Carrier A        6.247861    Supplier 2     Delhi         20                 306                       21            45.178758               Fail      4.754801                 Rail Route B 496.248650\n",
      "    haircare SKU51 26.700761            61                      154        9866.465458                  Male           100           4                52               1         Carrier A        4.783001    Supplier 5 Bangalore         18                 673                       28            14.190328            Pending      1.772951                 Road Route A 694.982318\n",
      "    skincare SKU52 98.031830             1                      820        9435.762609                  Male            64          11                11               1         Carrier B        8.631052    Supplier 1    Mumbai         10                 727                       27             9.166849            Pending      2.122472                  Air Route C 602.898499\n",
      "    skincare SKU53 30.341471            93                      242        8232.334829                  Male            96          25                54               3         Carrier B        1.013487    Supplier 1     Delhi          1                 631                       17            83.344059            Pending      1.410348                  Air Route B 750.737841\n",
      "    haircare SKU54 31.146243            11                      622        6088.021480            Non-binary            33          22                61               3         Carrier B        4.305103    Supplier 1   Kolkata         26                 497                       29            30.186023               Pass      2.478772                 Road Route B 814.069997\n",
      "    haircare SKU55 79.855058            16                      701        2925.675170                  Male            97          11                11               5         Carrier A        5.014365    Supplier 2     Delhi         27                 918                        5            30.323545               Fail      4.548920                  Sea Route B 323.012928\n",
      "    skincare SKU56 20.986386            90                       93        4767.020484            Non-binary            25          23                83               5         Carrier C        1.774430    Supplier 1    Mumbai         24                 826                       28            12.836285               Pass      1.173755                  Air Route B 832.210809\n",
      "    haircare SKU57 49.263205            65                      227        1605.866900               Unknown             5          18                51               1         Carrier B        9.160559    Supplier 2     Delhi         21                 588                       25            67.779623            Pending      2.511175                 Rail Route A 482.191239\n",
      "    skincare SKU58 59.841561            81                      896        2021.149810            Non-binary            10           5                44               7         Carrier A        4.938439    Supplier 3     Delhi         18                 396                        7            65.047415               Fail      1.730375                 Road Route B 110.364335\n",
      "   cosmetics SKU59 63.828398            30                      484        1061.618523            Non-binary           100          16                26               7         Carrier B        7.293723    Supplier 1   Kolkata         11                 176                        4             1.900762               Fail      0.447194                  Air Route A 312.574274\n",
      "    skincare SKU60 17.028028            16                      380        8864.084350                Female            41          27                72               8         Carrier C        4.381368    Supplier 4    Mumbai         29                 929                       24            87.213058               Fail      2.853091                 Rail Route A 430.169097\n",
      "    haircare SKU61 52.028750            23                      117        6885.589351               Unknown            32          23                36               7         Carrier C        9.030340    Supplier 4   Kolkata         14                 480                       12            78.702394               Fail      4.367471                  Air Route A 164.366528\n",
      "   cosmetics SKU62 72.796354            89                      270        3899.746834               Unknown            86           2                40               7         Carrier C        7.291701    Supplier 2    Mumbai         13                 751                       14            21.048643               Pass      1.874001                  Sea Route C 320.846516\n",
      "    skincare SKU63 13.017377            55                      246        4256.949141            Non-binary            54          19                10               4         Carrier A        2.457934    Supplier 3 Bangalore         18                 736                       10            20.075004            Pending      3.632843                  Sea Route A 687.286178\n",
      "    skincare SKU64 89.634096            11                      134        8458.730878                Female            73          27                75               6         Carrier C        4.585353    Supplier 1     Delhi         17                 328                        6             8.693042               Fail      0.159486                  Air Route C 771.225085\n",
      "    skincare SKU65 33.697717            72                      457        8354.579686                  Male            57          24                54               8         Carrier C        6.580541    Supplier 5   Kolkata         16                 358                       21             1.597223               Fail      4.911096                 Rail Route C 555.859104\n",
      "    skincare SKU66 26.034870            52                      704        8367.721618                Female            13          17                19               8         Carrier A        2.216143    Supplier 5   Kolkata         24                 867                       28            42.084437               Fail      3.448063                 Road Route A 393.843349\n",
      "    skincare SKU67 87.755432            16                      513        9473.798033               Unknown            12           9                71               9         Carrier C        9.147812    Supplier 1    Mumbai         10                 198                       11             7.057876               Pass      0.131955                  Sea Route C 169.271801\n",
      "    haircare SKU68 37.931812            29                      163        3550.218433            Non-binary             0           8                58               8         Carrier B        1.194252    Supplier 2 Bangalore          2                 375                       18            97.113582               Fail      1.983468                 Rail Route A 299.706303\n",
      "    skincare SKU69 54.865529            62                      511        1752.381087            Non-binary            95           1                27               3         Carrier B        9.705287    Supplier 4   Kolkata          9                 862                        7            77.627766            Pending      1.362388                  Air Route A 207.663206\n",
      "    haircare SKU70 47.914542            90                       32        7014.887987                Female            10          12                22               4         Carrier B        6.315718    Supplier 1 Bangalore         22                 775                       16            11.440782               Pass      1.830576                 Road Route C 183.272899\n",
      "   cosmetics SKU71  6.381533            14                      637        8180.337085                Female            76           2                26               6         Carrier A        9.228190    Supplier 2 Bangalore          2                 258                       10            30.661677            Pending      2.078751                 Road Route A 405.167068\n",
      "   cosmetics SKU72 90.204428            88                      478        2633.121981            Non-binary            57          29                77               9         Carrier A        6.599614    Supplier 1 Bangalore         21                 152                       11            55.760493            Pending      3.213330                 Rail Route B 677.944570\n",
      "   cosmetics SKU73 83.851018            41                      375        7910.886916                  Male            17          25                66               5         Carrier B        1.512937    Supplier 4   Chennai         13                 444                        4            46.870239               Fail      4.620546                 Road Route A 866.472800\n",
      "    haircare SKU74  3.170011            64                      904        5709.945296                Female            41           6                 1               5         Carrier A        5.237655    Supplier 4     Delhi          1                 919                        9            80.580852               Fail      0.396613                 Rail Route A 341.552657\n",
      "    skincare SKU75 92.996884            29                      106        1889.073590            Non-binary            16          20                56              10         Carrier C        2.473898    Supplier 1   Chennai         25                 759                       11            48.064783               Pass      2.030069                  Air Route C 873.129648\n",
      "    haircare SKU76 69.108800            23                      241        5328.375984                  Male            38           1                22              10         Carrier A        7.054538    Supplier 2 Bangalore         25                 985                       24            64.323598            Pending      2.180037                 Rail Route A 997.413450\n",
      "    haircare SKU77 57.449743            14                      359        2483.760178               Unknown            96          28                57               4         Carrier B        6.780947    Supplier 1   Kolkata         26                 334                        5            42.952445               Pass      3.055142                 Road Route B 852.568099\n",
      "    haircare SKU78  6.306883            50                      946        1292.458418               Unknown             5           4                51               5         Carrier B        8.467050    Supplier 5    Mumbai         25                 858                       21            71.126515            Pending      4.096881                  Sea Route C 323.592203\n",
      "    haircare SKU79 57.057031            56                      198        7888.723268            Non-binary            31          25                20               1         Carrier B        6.496325    Supplier 3 Bangalore          5                 228                       12            57.870903            Pending      0.165872                  Air Route C 351.504219\n",
      "    skincare SKU80 91.128318            75                      872        8651.672683               Unknown            39          14                41               2         Carrier C        2.833185    Supplier 3   Chennai          8                 202                        5            76.961228               Fail      2.849662                  Sea Route B 787.779850\n",
      "    haircare SKU81 72.819207             9                      774        4384.413400               Unknown            48           6                 8               5         Carrier B        4.066278    Supplier 3     Delhi         28                 698                        1            19.789593            Pending      2.547547                 Rail Route B 276.778336\n",
      "    skincare SKU82 17.034931            13                      336        2943.381868               Unknown            42          19                72               1         Carrier A        4.708182    Supplier 2    Mumbai          6                 955                       26             4.465278            Pending      4.137877                 Road Route C 589.978556\n",
      "    haircare SKU83 68.911246            82                      663        2411.754632               Unknown            65          24                 7               8         Carrier B        4.949840    Supplier 1 Bangalore         20                 443                        5            97.730594               Fail      0.773006                 Road Route A 682.971018\n",
      "    haircare SKU84 89.104367            99                      618        2048.290100               Unknown            73          26                80              10         Carrier A        8.381616    Supplier 5   Chennai         24                 589                       22            33.808637               Pass      4.843457                  Air Route B 465.457006\n",
      "   cosmetics SKU85 76.962994            83                       25        8684.613059                Female            15          18                66               2         Carrier C        8.249169    Supplier 5   Chennai          4                 211                        2            69.929346               Fail      1.374429                 Road Route B 842.686830\n",
      "    skincare SKU86 19.998177            18                      223        1229.591029               Unknown            32          14                22               6         Carrier B        1.454305    Supplier 1    Mumbai          4                 569                       18            74.608970               Pass      2.051513                 Rail Route A 264.254890\n",
      "    haircare SKU87 80.414037            24                       79        5133.846701                  Male             5           7                55              10         Carrier A        6.575804    Supplier 3   Chennai         27                 523                       17            28.696997               Fail      3.693738                  Sea Route B 879.359218\n",
      "   cosmetics SKU88 75.270407            58                      737        9444.742033                  Male            60          18                85               7         Carrier A        3.801253    Supplier 2    Mumbai         21                 953                       11            68.184919            Pending      0.722204                  Sea Route A 103.916248\n",
      "   cosmetics SKU89 97.760086            10                      134        5924.682567               Unknown            90           1                27               8         Carrier B        9.929816    Supplier 1   Kolkata         23                 370                       11            46.603873            Pending      1.907666                 Rail Route B 517.499974\n",
      "    skincare SKU90 13.881914            56                      320        9592.633570            Non-binary            66          18                96               7         Carrier B        7.674431    Supplier 3 Bangalore          8                 585                        8            85.675963               Pass      1.219382                 Rail Route B 990.078473\n",
      "   cosmetics SKU91 62.111965            90                      916        1935.206794                  Male            98          22                85               7         Carrier B        7.471514    Supplier 4     Delhi          5                 207                       28            39.772883            Pending      0.626002                 Rail Route B 996.778315\n",
      "   cosmetics SKU92 47.714233            44                      276        2100.129755                  Male            90          25                10               8         Carrier B        4.469500    Supplier 2    Mumbai          4                 671                       29            62.612690               Pass      0.333432                 Rail Route B 230.092783\n",
      "    haircare SKU93 69.290831            88                      114        4531.402134               Unknown            63          17                66               1         Carrier C        7.006432    Supplier 4   Chennai         21                 824                       20            35.633652               Fail      4.165782                  Air Route A 823.523846\n",
      "   cosmetics SKU94  3.037689            97                      987        7888.356547               Unknown            77          26                72               9         Carrier B        6.942946    Supplier 2     Delhi         12                 908                       14            60.387379               Pass      1.463607                 Rail Route B 846.665257\n",
      "    haircare SKU95 77.903927            65                      672        7386.363944               Unknown            15          14                26               9         Carrier B        8.630339    Supplier 4    Mumbai         18                 450                       26            58.890686            Pending      1.210882                  Air Route A 778.864241\n",
      "   cosmetics SKU96 24.423131            29                      324        7698.424766            Non-binary            67           2                32               3         Carrier C        5.352878    Supplier 3    Mumbai         28                 648                       28            17.803756            Pending      3.872048                 Road Route A 188.742141\n",
      "    haircare SKU97  3.526111            56                       62        4370.916580                  Male            46          19                 4               9         Carrier A        7.904846    Supplier 4    Mumbai         10                 535                       13            65.765156               Fail      3.376238                 Road Route A 540.132423\n",
      "    skincare SKU98 19.754605            43                      913        8525.952560                Female            53           1                27               7         Carrier B        1.409801    Supplier 5   Chennai         28                 581                        9             5.604691            Pending      2.908122                 Rail Route A 882.198864\n",
      "    haircare SKU99 68.517833            17                      627        9185.185829               Unknown            55           8                59               6         Carrier B        1.311024    Supplier 2   Chennai         29                 921                        2            38.072899               Fail      0.346027                 Rail Route B 210.743009\n"
     ]
    }
   ],
   "source": [
    "import pandas as pd\n",
    "\n",
    "# Path to the .xls file (Change this to your actual file path)\n",
    "file_path = \"/Users/ssathiyaseelan/Desktop/python/POC_22_07/Document_Search_BOT_excel/upload/supply_chain_test_data.xls\"\n",
    "\n",
    "# Read the .xls file\n",
    "xls_data = pd.read_excel(file_path, sheet_name=None)  # Read all sheets\n",
    "\n",
    "# Print formatted output\n",
    "for sheet_name, sheet_data in xls_data.items():\n",
    "    print(f\"\\n--- Sheet: {sheet_name} ---\")\n",
    "    print(sheet_data.to_string(index=False))  # Print without row indices"
   ]
  },
  {
   "cell_type": "code",
   "execution_count": 3,
   "id": "ccc7acc0-8023-4113-80a5-4817d4a17f6a",
   "metadata": {},
   "outputs": [
    {
     "name": "stdout",
     "output_type": "stream",
     "text": [
      "Requirement already satisfied: pandas in c:\\users\\ssathiyaseelan\\appdata\\local\\anaconda3\\lib\\site-packages (2.2.2)\n",
      "Requirement already satisfied: openai in c:\\users\\ssathiyaseelan\\appdata\\local\\anaconda3\\lib\\site-packages (0.28.0)\n",
      "Requirement already satisfied: xlrd in c:\\users\\ssathiyaseelan\\appdata\\local\\anaconda3\\lib\\site-packages (2.0.1)\n",
      "Requirement already satisfied: numpy>=1.26.0 in c:\\users\\ssathiyaseelan\\appdata\\local\\anaconda3\\lib\\site-packages (from pandas) (1.26.4)\n",
      "Requirement already satisfied: python-dateutil>=2.8.2 in c:\\users\\ssathiyaseelan\\appdata\\local\\anaconda3\\lib\\site-packages (from pandas) (2.9.0.post0)\n",
      "Requirement already satisfied: pytz>=2020.1 in c:\\users\\ssathiyaseelan\\appdata\\local\\anaconda3\\lib\\site-packages (from pandas) (2024.1)\n",
      "Requirement already satisfied: tzdata>=2022.7 in c:\\users\\ssathiyaseelan\\appdata\\local\\anaconda3\\lib\\site-packages (from pandas) (2023.3)\n",
      "Requirement already satisfied: requests>=2.20 in c:\\users\\ssathiyaseelan\\appdata\\local\\anaconda3\\lib\\site-packages (from openai) (2.32.3)\n",
      "Requirement already satisfied: tqdm in c:\\users\\ssathiyaseelan\\appdata\\local\\anaconda3\\lib\\site-packages (from openai) (4.66.5)\n",
      "Requirement already satisfied: aiohttp in c:\\users\\ssathiyaseelan\\appdata\\local\\anaconda3\\lib\\site-packages (from openai) (3.10.5)\n",
      "Requirement already satisfied: six>=1.5 in c:\\users\\ssathiyaseelan\\appdata\\local\\anaconda3\\lib\\site-packages (from python-dateutil>=2.8.2->pandas) (1.16.0)\n",
      "Requirement already satisfied: charset-normalizer<4,>=2 in c:\\users\\ssathiyaseelan\\appdata\\local\\anaconda3\\lib\\site-packages (from requests>=2.20->openai) (3.3.2)\n",
      "Requirement already satisfied: idna<4,>=2.5 in c:\\users\\ssathiyaseelan\\appdata\\local\\anaconda3\\lib\\site-packages (from requests>=2.20->openai) (3.7)\n",
      "Requirement already satisfied: urllib3<3,>=1.21.1 in c:\\users\\ssathiyaseelan\\appdata\\local\\anaconda3\\lib\\site-packages (from requests>=2.20->openai) (2.2.3)\n",
      "Requirement already satisfied: certifi>=2017.4.17 in c:\\users\\ssathiyaseelan\\appdata\\local\\anaconda3\\lib\\site-packages (from requests>=2.20->openai) (2024.12.14)\n",
      "Requirement already satisfied: aiohappyeyeballs>=2.3.0 in c:\\users\\ssathiyaseelan\\appdata\\local\\anaconda3\\lib\\site-packages (from aiohttp->openai) (2.4.0)\n",
      "Requirement already satisfied: aiosignal>=1.1.2 in c:\\users\\ssathiyaseelan\\appdata\\local\\anaconda3\\lib\\site-packages (from aiohttp->openai) (1.2.0)\n",
      "Requirement already satisfied: attrs>=17.3.0 in c:\\users\\ssathiyaseelan\\appdata\\local\\anaconda3\\lib\\site-packages (from aiohttp->openai) (23.1.0)\n",
      "Requirement already satisfied: frozenlist>=1.1.1 in c:\\users\\ssathiyaseelan\\appdata\\local\\anaconda3\\lib\\site-packages (from aiohttp->openai) (1.4.0)\n",
      "Requirement already satisfied: multidict<7.0,>=4.5 in c:\\users\\ssathiyaseelan\\appdata\\local\\anaconda3\\lib\\site-packages (from aiohttp->openai) (6.0.4)\n",
      "Requirement already satisfied: yarl<2.0,>=1.0 in c:\\users\\ssathiyaseelan\\appdata\\local\\anaconda3\\lib\\site-packages (from aiohttp->openai) (1.11.0)\n",
      "Requirement already satisfied: colorama in c:\\users\\ssathiyaseelan\\appdata\\local\\anaconda3\\lib\\site-packages (from tqdm->openai) (0.4.6)\n",
      "Note: you may need to restart the kernel to use updated packages.\n"
     ]
    }
   ],
   "source": [
    "pip install pandas openai xlrd\n"
   ]
  },
  {
   "cell_type": "code",
   "execution_count": 5,
   "id": "b5748bf1-af6a-4685-9948-b7bacf18045a",
   "metadata": {},
   "outputs": [
    {
     "name": "stdin",
     "output_type": "stream",
     "text": [
      "\n",
      "Ask a question (or type 'exit' to quit):  skin care product prices range\n"
     ]
    },
    {
     "name": "stdout",
     "output_type": "stream",
     "text": [
      "\n",
      "AI Response: The skincare product prices range from 1.013487 to 99.171329.\n"
     ]
    },
    {
     "name": "stdin",
     "output_type": "stream",
     "text": [
      "\n",
      "Ask a question (or type 'exit' to quit):  total product types\n"
     ]
    },
    {
     "name": "stdout",
     "output_type": "stream",
     "text": [
      "\n",
      "AI Response: There are three total product types: haircare, skincare, and cosmetics.\n"
     ]
    },
    {
     "name": "stdin",
     "output_type": "stream",
     "text": [
      "\n",
      "Ask a question (or type 'exit' to quit):  sgive me a supplier details\n"
     ]
    },
    {
     "name": "stdout",
     "output_type": "stream",
     "text": [
      "\n",
      "AI Response: Here are the details for some suppliers from the supply_chain_test_data Excel sheet:\n",
      "\n",
      "1. Supplier 1 \n",
      "   - Location: Mumbai\n",
      "   - Lead Time: 29\n",
      "   - Production Volumes: 215\n",
      "   - Manufacturing Lead Time: 29\n",
      "   - Manufacturing Costs: 46.279879\n",
      "\n",
      "2. Supplier 2\n",
      "   - Location: Chennai\n",
      "   - Lead Time: 29\n",
      "   - Production Volumes: 963\n",
      "   - Manufacturing Lead Time: 23\n",
      "   - Manufacturing Costs: 47.957602\n",
      "\n",
      "3. Supplier 3\n",
      "   - Location: Kolkata\n",
      "   - Lead Time: 24\n",
      "   - Production Volumes: 937\n",
      "   - Manufacturing Lead Time: 18\n",
      "   - Manufacturing Costs: 35.624741\n",
      "\n",
      "4. Supplier 4\n",
      "   - Location: Bangalore\n",
      "   - Lead Time: 22\n",
      "   - Production Volumes: 564\n",
      "   - Manufacturing Lead Time: 1\n",
      "   - Manufacturing Costs: 99.466109\n",
      "\n",
      "5. Supplier 5\n",
      "   - Location: Kolkata\n",
      "   - Lead Time: 25\n",
      "   - Production Volumes: 558\n",
      "   - Manufacturing Lead Time: 14\n",
      "   - Manufacturing Costs: 5.791437\n",
      "\n",
      "These details provide information about the location, lead time, production volumes, manufacturing lead time, and manufacturing costs for each supplier mentioned in the dataset.\n"
     ]
    },
    {
     "name": "stdin",
     "output_type": "stream",
     "text": [
      "\n",
      "Ask a question (or type 'exit' to quit):  exit\n"
     ]
    },
    {
     "name": "stdout",
     "output_type": "stream",
     "text": [
      "Goodbye!\n"
     ]
    }
   ],
   "source": [
    "import pandas as pd\n",
    "import openai\n",
    "\n",
    "# Set your OpenAI API key\n",
    "openai.api_key = \"your OpenAI API key\"\n",
    "\n",
    "# Load the .xls file\n",
    "file_path = \"/Users/ssathiyaseelan/Desktop/python/POC_22_07/Document_Search_BOT_excel/upload/supply_chain_test_data.xls\"  # Change this to your file path\n",
    "xls_data = pd.read_excel(file_path, sheet_name=None)  # Read all sheets\n",
    "\n",
    "# Convert Excel data into a structured text format\n",
    "context = \"\"\n",
    "for sheet_name, sheet_data in xls_data.items():\n",
    "    context += f\"\\n--- Sheet: {sheet_name} ---\\n\"\n",
    "    context += sheet_data.to_string(index=False)  # Convert dataframe to text\n",
    "\n",
    "# Function to get response from OpenAI\n",
    "def get_response(user_query):\n",
    "    prompt = f\"Refer to the following Excel data:\\n{context}\\n\\nQuestion: {user_query}\\nAnswer:\"\n",
    "\n",
    "    response = openai.ChatCompletion.create(\n",
    "        model=\"gpt-3.5-turbo\",\n",
    "        messages=[{\"role\": \"user\", \"content\": prompt}]\n",
    "    )\n",
    "\n",
    "    return response['choices'][0]['message']['content'].strip()\n",
    "\n",
    "# User interaction loop\n",
    "while True:\n",
    "    user_input = input(\"\\nAsk a question (or type 'exit' to quit): \")\n",
    "    if user_input.lower() == \"exit\":\n",
    "        print(\"Goodbye!\")\n",
    "        break\n",
    "\n",
    "    answer = get_response(user_input)\n",
    "    print(f\"\\nAI Response: {answer}\")\n"
   ]
  },
  {
   "cell_type": "code",
   "execution_count": 7,
   "id": "bfc74c9e-6912-4ea5-a360-77be2951b5eb",
   "metadata": {},
   "outputs": [
    {
     "name": "stdin",
     "output_type": "stream",
     "text": [
      "\n",
      "Ask a question (or type 'exit' to quit):  bar graph of product type vs Availability\n",
      "Enter sheet name:  supply_chain_test_data\n",
      "Enter column for X-axis:  product type\n",
      "Enter column for Y-axis:  Availability\n"
     ]
    },
    {
     "name": "stdout",
     "output_type": "stream",
     "text": [
      "Columns 'product type' or 'Availability' not found in 'supply_chain_test_data' sheet.\n"
     ]
    },
    {
     "name": "stdin",
     "output_type": "stream",
     "text": [
      "\n",
      "Ask a question (or type 'exit' to quit):  bar graph\n",
      "Enter sheet name:  supply_chain_test_data\n",
      "Enter column for X-axis:  SKU\n",
      "Enter column for Y-axis:  Availability\n"
     ]
    },
    {
     "data": {
      "image/png": "[encoded data removed]",
      "text/plain": [
       "<Figure size 800x500 with 1 Axes>"
      ]
     },
     "metadata": {},
     "output_type": "display_data"
    },
    {
     "name": "stdin",
     "output_type": "stream",
     "text": [
      "\n",
      "Ask a question (or type 'exit' to quit):  bar graph\n",
      "Enter sheet name:  supply_chain_test_data\n",
      "Enter column for X-axis:  Product type\n",
      "Enter column for Y-axis:  Availability\n"
     ]
    },
    {
     "data": {
      "image/png": "[encoded data removed]",
      "text/plain": [
       "<Figure size 800x500 with 1 Axes>"
      ]
     },
     "metadata": {},
     "output_type": "display_data"
    },
    {
     "name": "stdin",
     "output_type": "stream",
     "text": [
      "\n",
      "Ask a question (or type 'exit' to quit):  exit\n"
     ]
    },
    {
     "name": "stdout",
     "output_type": "stream",
     "text": [
      "Goodbye!\n"
     ]
    }
   ],
   "source": [
    "import pandas as pd\n",
    "import openai\n",
    "import matplotlib.pyplot as plt\n",
    "\n",
    "# Set your OpenAI API key\n",
    "openai.api_key = \"your OpenAI API key\"\n",
    "\n",
    "# Load the .xls file\n",
    "file_path = \"/Users/ssathiyaseelan/Desktop/python/POC_22_07/Document_Search_BOT_excel/upload/supply_chain_test_data.xls\"  # Change this to your file path\n",
    "xls_data = pd.read_excel(file_path, sheet_name=None)  # Read all sheets\n",
    "\n",
    "# Convert Excel data into a structured text format\n",
    "context = \"\"\n",
    "for sheet_name, sheet_data in xls_data.items():\n",
    "    context += f\"\\n--- Sheet: {sheet_name} ---\\n\"\n",
    "    context += sheet_data.to_string(index=False)  # Convert dataframe to text\n",
    "\n",
    "# Function to get response from OpenAI\n",
    "def get_response(user_query):\n",
    "    prompt = f\"Refer to the following Excel data:\\n{context}\\n\\nQuestion: {user_query}\\nAnswer:\"\n",
    "\n",
    "    response = openai.ChatCompletion.create(\n",
    "        model=\"gpt-3.5-turbo\",\n",
    "        messages=[{\"role\": \"user\", \"content\": prompt}]\n",
    "    )\n",
    "\n",
    "    return response['choices'][0]['message']['content'].strip()\n",
    "\n",
    "# Function to generate a bar graph\n",
    "def create_bar_graph(sheet_name, x_col, y_col):\n",
    "    if sheet_name not in xls_data:\n",
    "        print(f\"Sheet '{sheet_name}' not found.\")\n",
    "        return\n",
    "\n",
    "    df = xls_data[sheet_name]\n",
    "\n",
    "    if x_col not in df.columns or y_col not in df.columns:\n",
    "        print(f\"Columns '{x_col}' or '{y_col}' not found in '{sheet_name}' sheet.\")\n",
    "        return\n",
    "\n",
    "    plt.figure(figsize=(8, 5))\n",
    "    plt.bar(df[x_col], df[y_col], color='skyblue')\n",
    "    plt.xlabel(x_col)\n",
    "    plt.ylabel(y_col)\n",
    "    plt.title(f\"{y_col} by {x_col}\")\n",
    "    plt.xticks(rotation=45)\n",
    "    plt.show()\n",
    "\n",
    "# User interaction loop\n",
    "while True:\n",
    "    user_input = input(\"\\nAsk a question (or type 'exit' to quit): \")\n",
    "    \n",
    "    if user_input.lower() == \"exit\":\n",
    "        print(\"Goodbye!\")\n",
    "        break\n",
    "    \n",
    "    if \"bar graph\" in user_input.lower():\n",
    "        try:\n",
    "            sheet_name = input(\"Enter sheet name: \")\n",
    "            x_col = input(\"Enter column for X-axis: \")\n",
    "            y_col = input(\"Enter column for Y-axis: \")\n",
    "            create_bar_graph(sheet_name, x_col, y_col)\n",
    "        except Exception as e:\n",
    "            print(f\"Error: {e}\")\n",
    "    else:\n",
    "        answer = get_response(user_input)\n",
    "        print(f\"\\nAI Response: {answer}\")\n"
   ]
  },
  {
   "cell_type": "code",
   "execution_count": 2,
   "id": "c03cd3cd-9e7c-4350-b05e-691bca3333b1",
   "metadata": {},
   "outputs": [
    {
     "name": "stdin",
     "output_type": "stream",
     "text": [
      "\n",
      "Ask a question (or type 'exit' to quit):  summarize sales details\n"
     ]
    },
    {
     "name": "stdout",
     "output_type": "stream",
     "text": [
      "\n",
      "AI Response: To summarize the sales details from the supply chain test data:\n",
      "\n",
      "- Total revenue generated from all products sold: $709,587.720\n",
      "- Average price per product: $36.2722\n",
      "- Total number of products sold: 15,334\n",
      "- Average number of products sold per SKU: 227.15\n",
      "- Total available products across all SKUs: 23,777\n",
      "- Average availability percentage: 54.46%\n",
      "- Total number of unique customer demographics: 4\n",
      "- Total number of unique suppliers: 5\n",
      "- Total number of unique shipping carriers: 3\n",
      "- Maximum revenue generated by a single SKU: $9,623.885958 (SKU16)\n",
      "- Minimum revenue generated by a single SKU: $1,000.00 (SKU61)\n",
      "- Maximum number of products sold for a single SKU: 996 (SKU10)\n",
      "- Minimum number of products sold for a single SKU: 1 (SKU97)\n",
      "- Maximum defect rate for a single SKU: 4.939255% (SKU42)\n",
      "- Minimum defect rate for a single SKU: 0.021170% (SKU11)\n"
     ]
    },
    {
     "name": "stdin",
     "output_type": "stream",
     "text": [
      "\n",
      "Ask a question (or type 'exit' to quit):  line chart\n",
      "Enter sheet name:  exit\n",
      "Enter column for X-axis:  asd\n",
      "Enter column for Y-axis:  asd\n"
     ]
    },
    {
     "name": "stdout",
     "output_type": "stream",
     "text": [
      "Sheet 'exit' not found.\n"
     ]
    },
    {
     "name": "stdin",
     "output_type": "stream",
     "text": [
      "\n",
      "Ask a question (or type 'exit' to quit):  exit\n"
     ]
    },
    {
     "name": "stdout",
     "output_type": "stream",
     "text": [
      "Goodbye!\n"
     ]
    }
   ],
   "source": [
    "import pandas as pd\n",
    "import openai\n",
    "import matplotlib.pyplot as plt\n",
    "\n",
    "# Set your OpenAI API key\n",
    "openai.api_key = \"your OpenAI API key\"\n",
    "\n",
    "\n",
    "# Load the .xls file\n",
    "file_path = \"/Users/ssathiyaseelan/Desktop/python/POC_22_07/Document_Search_BOT_excel/upload/supply_chain_test_data.xls\"  # Change this to your file path\n",
    "xls_data = pd.read_excel(file_path, sheet_name=None)  # Read all sheets\n",
    "\n",
    "\n",
    "# Convert Excel data into structured text\n",
    "context = \"\"\n",
    "for sheet_name, sheet_data in xls_data.items():\n",
    "    context += f\"\\n--- Sheet: {sheet_name} ---\\n\"\n",
    "    context += sheet_data.to_string(index=False)  # Convert dataframe to text\n",
    "\n",
    "# Function to get response from OpenAI\n",
    "def get_response(user_query):\n",
    "    prompt = f\"Refer to the following Excel data:\\n{context}\\n\\nQuestion: {user_query}\\nAnswer:\"\n",
    "\n",
    "    response = openai.ChatCompletion.create(\n",
    "        model=\"gpt-3.5-turbo\",\n",
    "        messages=[{\"role\": \"user\", \"content\": prompt}]\n",
    "    )\n",
    "\n",
    "    return response['choices'][0]['message']['content'].strip()\n",
    "\n",
    "# Function to generate a bar graph\n",
    "def create_bar_graph(sheet_name, x_col, y_col):\n",
    "    if sheet_name not in xls_data:\n",
    "        print(f\"Sheet '{sheet_name}' not found.\")\n",
    "        return\n",
    "\n",
    "    df = xls_data[sheet_name]\n",
    "    if x_col not in df.columns or y_col not in df.columns:\n",
    "        print(f\"Columns '{x_col}' or '{y_col}' not found in '{sheet_name}' sheet.\")\n",
    "        return\n",
    "\n",
    "    plt.figure(figsize=(8, 5))\n",
    "    plt.bar(df[x_col], df[y_col], color='skyblue')\n",
    "    plt.xlabel(x_col)\n",
    "    plt.ylabel(y_col)\n",
    "    plt.title(f\"{y_col} by {x_col}\")\n",
    "    plt.xticks(rotation=45)\n",
    "    plt.show()\n",
    "\n",
    "# Function to generate a pie chart\n",
    "def create_pie_chart(sheet_name, labels_col, values_col):\n",
    "    if sheet_name not in xls_data:\n",
    "        print(f\"Sheet '{sheet_name}' not found.\")\n",
    "        return\n",
    "\n",
    "    df = xls_data[sheet_name]\n",
    "    if labels_col not in df.columns or values_col not in df.columns:\n",
    "        print(f\"Columns '{labels_col}' or '{values_col}' not found in '{sheet_name}' sheet.\")\n",
    "        return\n",
    "\n",
    "    plt.figure(figsize=(7, 7))\n",
    "    plt.pie(df[values_col], labels=df[labels_col], autopct='%1.1f%%', colors=plt.cm.Paired.colors)\n",
    "    plt.title(f\"{values_col} Distribution\")\n",
    "    plt.show()\n",
    "\n",
    "# Function to generate a line chart\n",
    "def create_line_chart(sheet_name, x_col, y_col):\n",
    "    if sheet_name not in xls_data:\n",
    "        print(f\"Sheet '{sheet_name}' not found.\")\n",
    "        return\n",
    "\n",
    "    df = xls_data[sheet_name]\n",
    "    if x_col not in df.columns or y_col not in df.columns:\n",
    "        print(f\"Columns '{x_col}' or '{y_col}' not found in '{sheet_name}' sheet.\")\n",
    "        return\n",
    "\n",
    "    plt.figure(figsize=(8, 5))\n",
    "    plt.plot(df[x_col], df[y_col], marker='o', linestyle='-', color='blue')\n",
    "    plt.xlabel(x_col)\n",
    "    plt.ylabel(y_col)\n",
    "    plt.title(f\"Trend of {y_col} by {x_col}\")\n",
    "    plt.xticks(rotation=45)\n",
    "    plt.grid()\n",
    "    plt.show()\n",
    "\n",
    "# User interaction loop\n",
    "while True:\n",
    "    user_input = input(\"\\nAsk a question (or type 'exit' to quit): \")\n",
    "    \n",
    "    if user_input.lower() == \"exit\":\n",
    "        print(\"Goodbye!\")\n",
    "        break\n",
    "    \n",
    "    if \"bar graph\" in user_input.lower():\n",
    "        sheet_name = input(\"Enter sheet name: \")\n",
    "        x_col = input(\"Enter column for X-axis: \")\n",
    "        y_col = input(\"Enter column for Y-axis: \")\n",
    "        create_bar_graph(sheet_name, x_col, y_col)\n",
    "\n",
    "    elif \"pie chart\" in user_input.lower():\n",
    "        sheet_name = input(\"Enter sheet name: \")\n",
    "        labels_col = input(\"Enter column for labels: \")\n",
    "        values_col = input(\"Enter column for values: \")\n",
    "        create_pie_chart(sheet_name, labels_col, values_col)\n",
    "\n",
    "    elif \"line chart\" in user_input.lower():\n",
    "        sheet_name = input(\"Enter sheet name: \")\n",
    "        x_col = input(\"Enter column for X-axis: \")\n",
    "        y_col = input(\"Enter column for Y-axis: \")\n",
    "        create_line_chart(sheet_name, x_col, y_col)\n",
    "\n",
    "    else:\n",
    "        answer = get_response(user_input)\n",
    "        print(f\"\\nAI Response: {answer}\")\n"
   ]
  },
  {
   "cell_type": "code",
   "execution_count": 18,
   "id": "deb95a3e-a43c-4e23-a776-9d276d257b57",
   "metadata": {},
   "outputs": [
    {
     "name": "stdin",
     "output_type": "stream",
     "text": [
      "\n",
      "Ask a question (or type 'exit' to quit):  total product types\n"
     ]
    },
    {
     "name": "stdout",
     "output_type": "stream",
     "text": [
      "\n",
      "AI Response: There are 5 different product types in the supply_chain_test_data sheet: haircare, skincare, cosmetics, unknown, non-binary.\n"
     ]
    },
    {
     "name": "stdin",
     "output_type": "stream",
     "text": [
      "\n",
      "Ask a question (or type 'exit' to quit):  pie chart\n",
      "Enter sheet name:  supply_chain_test_data\n",
      "Enter column for labels:  Product type\n",
      "Enter column for values:  Availability\n"
     ]
    },
    {
     "data": {
      "image/png": "[encoded data removed]",
      "text/plain": [
       "<Figure size 700x700 with 1 Axes>"
      ]
     },
     "metadata": {},
     "output_type": "display_data"
    },
    {
     "name": "stdin",
     "output_type": "stream",
     "text": [
      "\n",
      "Ask a question (or type 'exit' to quit):  Average number of product sold\n"
     ]
    },
    {
     "name": "stdout",
     "output_type": "stream",
     "text": [
      "\n",
      "AI Response: The average number of products sold can be calculated by summing up the number of products sold for each entry and then dividing by the total number of entries. \n",
      "\n",
      "Sum of number of products sold = 55 + 736 + 8 + 83 + 871 + 147 + 65 + 426 + 150 + 980 + 996 + 960 + 336 + 249 + 562 + 469 + 280 + 126 + 620 + 187 + 320 + 601 + 884 + 391 + 209 + 142 + 353 + 352 + 253 + 327 + 168 + 781 + 616 + 602 + 449 + 963 + 705 + 176 + 933 + 556 + 155 + 242 + 598 + 616 + 511 + 32 + 637 + 359 + 618 + 270 + 737 + 904 + 612 + 513 + 134 + 320 + 937 + 778 + 673 + 82 + 618 + 276 + 114 + 987 + 672 + 324 + 62 + 913 + 627\n",
      "\n",
      "Total number of entries = 100\n",
      "\n",
      "Average number of products sold = (Sum of number of products sold) / (Total number of entries)\n",
      "Average number of products sold = 73708 / 100\n",
      "Average number of products sold = 737.08\n",
      "\n",
      "Therefore, the average number of products sold is 737.08.\n"
     ]
    },
    {
     "name": "stdin",
     "output_type": "stream",
     "text": [
      "\n",
      "Ask a question (or type 'exit' to quit):  exit\n"
     ]
    },
    {
     "name": "stdout",
     "output_type": "stream",
     "text": [
      "Goodbye!\n"
     ]
    }
   ],
   "source": [
    "import pandas as pd\n",
    "import openai\n",
    "import matplotlib.pyplot as plt\n",
    "\n",
    "# Set your OpenAI API key\n",
    "openai.api_key = \"your OpenAI API key\"\n",
    "\n",
    "# Load the .xls file\n",
    "file_path = \"/Users/ssathiyaseelan/Desktop/python/POC_22_07/Document_Search_BOT_excel/upload/supply_chain_test_data.xls\"  # Change this to your file path\n",
    "xls_data = pd.read_excel(file_path, sheet_name=None)  # Read all sheets\n",
    "\n",
    "\n",
    "# Convert Excel data into structured text\n",
    "context = \"\"\n",
    "for sheet_name, sheet_data in xls_data.items():\n",
    "    context += f\"\\n--- Sheet: {sheet_name} ---\\n\"\n",
    "    context += sheet_data.to_string(index=False)  # Convert dataframe to text\n",
    "\n",
    "# Function to get response from OpenAI\n",
    "def get_response(user_query):\n",
    "    prompt = f\"Refer to the following Excel data:\\n{context}\\n\\nQuestion: {user_query}\\nAnswer:\"\n",
    "\n",
    "    response = openai.ChatCompletion.create(\n",
    "        model=\"gpt-3.5-turbo\",\n",
    "        messages=[{\"role\": \"user\", \"content\": prompt}]\n",
    "    )\n",
    "\n",
    "    return response['choices'][0]['message']['content'].strip()\n",
    "\n",
    "# Function to generate a bar graph\n",
    "def create_bar_graph(sheet_name, x_col, y_col):\n",
    "    if sheet_name not in xls_data:\n",
    "        print(f\"Sheet '{sheet_name}' not found.\")\n",
    "        return\n",
    "\n",
    "    df = xls_data[sheet_name]\n",
    "\n",
    "    # Group and Sum (if needed)\n",
    "    if df[y_col].dtype in ['int64', 'float64']:  \n",
    "        df = df.groupby(x_col, as_index=False)[y_col].sum()\n",
    "\n",
    "    plt.figure(figsize=(8, 5))\n",
    "    plt.bar(df[x_col], df[y_col], color='skyblue')\n",
    "    plt.xlabel(x_col)\n",
    "    plt.ylabel(y_col)\n",
    "    plt.title(f\"{y_col} by {x_col}\")\n",
    "    plt.xticks(rotation=45)\n",
    "    plt.show()\n",
    "\n",
    "# Function to generate a pie chart (Fix: Sum numerical values)\n",
    "def create_pie_chart(sheet_name, labels_col, values_col):\n",
    "    if sheet_name not in xls_data:\n",
    "        print(f\"Sheet '{sheet_name}' not found.\")\n",
    "        return\n",
    "\n",
    "    df = xls_data[sheet_name]\n",
    "\n",
    "    # **Fix: Group by labels_col & Sum values_col**\n",
    "    df = df.groupby(labels_col, as_index=False)[values_col].sum()\n",
    "\n",
    "    plt.figure(figsize=(7, 7))\n",
    "    plt.pie(df[values_col], labels=df[labels_col], autopct='%1.1f%%', colors=plt.cm.Paired.colors)\n",
    "    plt.title(f\"{values_col} Distribution\")\n",
    "    plt.show()\n",
    "\n",
    "# Function to generate a line chart\n",
    "def create_line_chart(sheet_name, x_col, y_col):\n",
    "    if sheet_name not in xls_data:\n",
    "        print(f\"Sheet '{sheet_name}' not found.\")\n",
    "        return\n",
    "\n",
    "    df = xls_data[sheet_name]\n",
    "\n",
    "    # Group and Sum (if needed)\n",
    "    if df[y_col].dtype in ['int64', 'float64']:  \n",
    "        df = df.groupby(x_col, as_index=False)[y_col].sum()\n",
    "\n",
    "    plt.figure(figsize=(8, 5))\n",
    "    plt.plot(df[x_col], df[y_col], marker='o', linestyle='-', color='blue')\n",
    "    plt.xlabel(x_col)\n",
    "    plt.ylabel(y_col)\n",
    "    plt.title(f\"Trend of {y_col} by {x_col}\")\n",
    "    plt.xticks(rotation=45)\n",
    "    plt.grid()\n",
    "    plt.show()\n",
    "\n",
    "# User interaction loop\n",
    "while True:\n",
    "    user_input = input(\"\\nAsk a question (or type 'exit' to quit): \")\n",
    "    \n",
    "    if user_input.lower() == \"exit\":\n",
    "        print(\"Goodbye!\")\n",
    "        break\n",
    "    \n",
    "    if \"bar graph\" in user_input.lower():\n",
    "        sheet_name = input(\"Enter sheet name: \")\n",
    "        x_col = input(\"Enter column for X-axis: \")\n",
    "        y_col = input(\"Enter column for Y-axis: \")\n",
    "        create_bar_graph(sheet_name, x_col, y_col)\n",
    "\n",
    "    elif \"pie chart\" in user_input.lower():\n",
    "        sheet_name = input(\"Enter sheet name: \")\n",
    "        labels_col = input(\"Enter column for labels: \")\n",
    "        values_col = input(\"Enter column for values: \")\n",
    "        create_pie_chart(sheet_name, labels_col, values_col)\n",
    "\n",
    "    elif \"line chart\" in user_input.lower():\n",
    "        sheet_name = input(\"Enter sheet name: \")\n",
    "        x_col = input(\"Enter column for X-axis: \")\n",
    "        y_col = input(\"Enter column for Y-axis: \")\n",
    "        create_line_chart(sheet_name, x_col, y_col)\n",
    "\n",
    "    else:\n",
    "        answer = get_response(user_input)\n",
    "        print(f\"\\nAI Response: {answer}\")\n"
   ]
  },
  {
   "cell_type": "code",
   "execution_count": null,
   "id": "75f25125-befd-4502-a957-acc0362395e5",
   "metadata": {},
   "outputs": [],
   "source": []
  }
 ],
 "metadata": {
  "kernelspec": {
   "display_name": "Python 3 (ipykernel)",
   "language": "python",
   "name": "python3"
  },
  "language_info": {
   "codemirror_mode": {
    "name": "ipython",
    "version": 3
   },
   "file_extension": ".py",
   "mimetype": "text/x-python",
   "name": "python",
   "nbconvert_exporter": "python",
   "pygments_lexer": "ipython3",
   "version": "3.12.7"
  }
 },
 "nbformat": 4,
 "nbformat_minor": 5
}
